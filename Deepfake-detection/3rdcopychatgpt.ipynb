{
 "cells": [
  {
   "cell_type": "code",
   "execution_count": 10,
   "metadata": {},
   "outputs": [
    {
     "name": "stderr",
     "output_type": "stream",
     "text": [
      "WARNING:absl:`lr` is deprecated in Keras optimizer, please use `learning_rate` or use the legacy optimizer, e.g.,tf.keras.optimizers.legacy.Adam.\n"
     ]
    }
   ],
   "source": [
    "import numpy as np\n",
    "import matplotlib.pyplot as plt\n",
    "from tensorflow.keras.layers import Input, Dense, Flatten, Conv2D, MaxPooling2D, BatchNormalization, Dropout, LeakyReLU\n",
    "from tensorflow.keras.preprocessing.image import ImageDataGenerator\n",
    "from tensorflow.keras.optimizers import Adam\n",
    "from tensorflow.keras.models import Model\n",
    "\n",
    "# Define image dimensions\n",
    "image_dimensions = {'height': 256, 'width': 256, 'channels': 3}\n",
    "\n",
    "# Create a Classifier class\n",
    "class Classifier:\n",
    "    def __init__(self):\n",
    "        self.model = None\n",
    "    \n",
    "    def predict(self, x):\n",
    "        return self.model.predict(x)\n",
    "    \n",
    "    def fit(self, x, y):\n",
    "        return self.model.train_on_batch(x, y)\n",
    "    \n",
    "    def get_accuracy(self, x, y):\n",
    "        return self.model.test_on_batch(x, y)\n",
    "    \n",
    "    def load(self, path):\n",
    "        self.model.load_weights(path)\n",
    "\n",
    "# Create a MesoNet class using the Classifier\n",
    "class Meso4(Classifier):\n",
    "    def __init__(self, learning_rate=0.001):\n",
    "        self.model = self.init_model()\n",
    "        optimizer = Adam(lr=learning_rate)\n",
    "        self.model.compile(optimizer=optimizer,\n",
    "                           loss='binary_crossentropy',\n",
    "                           metrics=['accuracy'])\n",
    "    \n",
    "    def init_model(self): \n",
    "        x = Input(shape=(image_dimensions['height'],\n",
    "                         image_dimensions['width'],\n",
    "                         image_dimensions['channels']))\n",
    "        \n",
    "        x1 = Conv2D(8, (3, 3), padding='same', activation='relu')(x)\n",
    "        x1 = BatchNormalization()(x1)\n",
    "        x1 = MaxPooling2D(pool_size=(2, 2), padding='same')(x1)\n",
    "        \n",
    "        x2 = Conv2D(8, (5, 5), padding='same', activation='relu')(x1)\n",
    "        x2 = BatchNormalization()(x2)\n",
    "        x2 = MaxPooling2D(pool_size=(2, 2), padding='same')(x2)\n",
    "        \n",
    "        x3 = Conv2D(16, (5, 5), padding='same', activation='relu')(x2)\n",
    "        x3 = BatchNormalization()(x3)\n",
    "        x3 = MaxPooling2D(pool_size=(2, 2), padding='same')(x3)\n",
    "        \n",
    "        x4 = Conv2D(16, (5, 5), padding='same', activation='relu')(x3)\n",
    "        x4 = BatchNormalization()(x4)\n",
    "        x4 = MaxPooling2D(pool_size=(4, 4), padding='same')(x4)\n",
    "        \n",
    "        y = Flatten()(x4)\n",
    "        y = Dropout(0.5)(y)\n",
    "        y = Dense(16)(y)\n",
    "        y = LeakyReLU(alpha=0.1)(y)\n",
    "        y = Dropout(0.5)(y)\n",
    "        y = Dense(1, activation='sigmoid')(y)\n",
    "        \n",
    "        return Model(inputs=x, outputs=y)\n",
    "\n",
    "# Instantiate a MesoNet model with pretrained weights\n",
    "meso = Meso4()\n",
    "meso.load('./weights/Meso4_DF')\n",
    "# meso.load('./Mesonet/weights/Meso4_F2F.h5')\n"
   ]
  },
  {
   "cell_type": "code",
   "execution_count": 11,
   "metadata": {},
   "outputs": [
    {
     "data": {
      "text/plain": [
       "\"\\n# Prepare image data\\ndataGenerator = ImageDataGenerator(rescale=1./255)\\n\\n# Creating training, validation, and test data generators\\ntrain_generator = dataGenerator.flow_from_directory(\\n    './data/train/',\\n    target_size=(256, 256),\\n    batch_size=32,\\n    class_mode='binary'\\n)\\n\\nvalidation_generator = dataGenerator.flow_from_directory(\\n    './data/validation/',\\n    target_size=(256, 256),\\n    batch_size=32,\\n    class_mode='binary'\\n)\\n\\ntest_generator = dataGenerator.flow_from_directory(\\n    './data/test/',\\n    target_size=(256, 256),\\n    batch_size=32,\\n    class_mode='binary'\\n)\\n\""
      ]
     },
     "execution_count": 11,
     "metadata": {},
     "output_type": "execute_result"
    }
   ],
   "source": [
    "'''\n",
    "# Prepare image data\n",
    "dataGenerator = ImageDataGenerator(rescale=1./255)\n",
    "\n",
    "# Creating training, validation, and test data generators\n",
    "train_generator = dataGenerator.flow_from_directory(\n",
    "    './data/train/',\n",
    "    target_size=(256, 256),\n",
    "    batch_size=32,\n",
    "    class_mode='binary'\n",
    ")\n",
    "\n",
    "validation_generator = dataGenerator.flow_from_directory(\n",
    "    './data/validation/',\n",
    "    target_size=(256, 256),\n",
    "    batch_size=32,\n",
    "    class_mode='binary'\n",
    ")\n",
    "\n",
    "test_generator = dataGenerator.flow_from_directory(\n",
    "    './data/test/',\n",
    "    target_size=(256, 256),\n",
    "    batch_size=32,\n",
    "    class_mode='binary'\n",
    ")\n",
    "'''"
   ]
  },
  {
   "cell_type": "code",
   "execution_count": 12,
   "metadata": {},
   "outputs": [
    {
     "data": {
      "text/plain": [
       "'\\n# Training the model\\nnum_epochs = 10\\nsteps_per_epoch = len(train_generator)\\n\\nfor epoch in range(num_epochs):\\n    for step in range(steps_per_epoch):\\n        x_batch, y_batch = train_generator.next()  # Get next batch of data\\n        loss, accuracy = meso.fit(x_batch, y_batch)  # Train on this batch\\n        if step % 10 == 0:\\n            print(f\"Epoch {epoch + 1}/{num_epochs}, Step {step + 1}/{steps_per_epoch}, Loss: {loss:.4f}, Accuracy: {accuracy:.4f}\")\\n    \\n    # Evaluate on validation set after each epoch\\n    val_loss, val_accuracy = meso.get_accuracy(validation_generator.next()[0], validation_generator.next()[1])\\n    print(f\"Validation Loss: {val_loss:.4f}, Validation Accuracy: {val_accuracy:.4f}\")\\n\\n# Final evaluation on the test set\\ntest_loss, test_accuracy = meso.get_accuracy(test_generator.next()[0], test_generator.next()[1])\\nprint(f\"Test Loss: {test_loss:.4f}, Test Accuracy: {test_accuracy:.4f}\")\\n'"
      ]
     },
     "execution_count": 12,
     "metadata": {},
     "output_type": "execute_result"
    }
   ],
   "source": [
    "'''\n",
    "# Training the model\n",
    "num_epochs = 10\n",
    "steps_per_epoch = len(train_generator)\n",
    "\n",
    "for epoch in range(num_epochs):\n",
    "    for step in range(steps_per_epoch):\n",
    "        x_batch, y_batch = train_generator.next()  # Get next batch of data\n",
    "        loss, accuracy = meso.fit(x_batch, y_batch)  # Train on this batch\n",
    "        if step % 10 == 0:\n",
    "            print(f\"Epoch {epoch + 1}/{num_epochs}, Step {step + 1}/{steps_per_epoch}, Loss: {loss:.4f}, Accuracy: {accuracy:.4f}\")\n",
    "    \n",
    "    # Evaluate on validation set after each epoch\n",
    "    val_loss, val_accuracy = meso.get_accuracy(validation_generator.next()[0], validation_generator.next()[1])\n",
    "    print(f\"Validation Loss: {val_loss:.4f}, Validation Accuracy: {val_accuracy:.4f}\")\n",
    "\n",
    "# Final evaluation on the test set\n",
    "test_loss, test_accuracy = meso.get_accuracy(test_generator.next()[0], test_generator.next()[1])\n",
    "print(f\"Test Loss: {test_loss:.4f}, Test Accuracy: {test_accuracy:.4f}\")\n",
    "'''"
   ]
  }
 ],
 "metadata": {
  "kernelspec": {
   "display_name": "Python 3",
   "language": "python",
   "name": "python3"
  },
  "language_info": {
   "codemirror_mode": {
    "name": "ipython",
    "version": 3
   },
   "file_extension": ".py",
   "mimetype": "text/x-python",
   "name": "python",
   "nbconvert_exporter": "python",
   "pygments_lexer": "ipython3",
   "version": "3.11.0"
  }
 },
 "nbformat": 4,
 "nbformat_minor": 2
}
